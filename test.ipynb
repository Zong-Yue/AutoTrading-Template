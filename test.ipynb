{
 "cells": [
  {
   "cell_type": "code",
   "execution_count": 1,
   "metadata": {},
   "outputs": [],
   "source": [
    "import sklearn\n",
    "import numpy as np\n",
    "import matplotlib.pyplot as plt\n",
    "import pandas as pd"
   ]
  },
  {
   "cell_type": "code",
   "execution_count": 17,
   "metadata": {},
   "outputs": [],
   "source": [
    "training_data = pd.read_csv('training_data.csv', header=0)"
   ]
  },
  {
   "cell_type": "code",
   "execution_count": 18,
   "metadata": {},
   "outputs": [
    {
     "name": "stdout",
     "output_type": "stream",
     "text": [
      "1223\n"
     ]
    }
   ],
   "source": [
    "print(len(training_data))"
   ]
  },
  {
   "cell_type": "code",
   "execution_count": 4,
   "metadata": {},
   "outputs": [],
   "source": [
    "row1 = training_data.head(1)"
   ]
  },
  {
   "cell_type": "code",
   "execution_count": 5,
   "metadata": {},
   "outputs": [
    {
     "name": "stdout",
     "output_type": "stream",
     "text": [
      "       63.75  63.849998  63.049999  63.150002\n",
      "0  63.650002       64.0  63.400002  63.900002\n",
      "[63.650002 64.       63.400002 63.900002]\n"
     ]
    }
   ],
   "source": [
    "nrow1 = row1.values\n",
    "print(row1)\n",
    "print(nrow1[0])"
   ]
  },
  {
   "cell_type": "code",
   "execution_count": 19,
   "metadata": {},
   "outputs": [],
   "source": [
    "data = training_data.values"
   ]
  },
  {
   "cell_type": "code",
   "execution_count": 20,
   "metadata": {},
   "outputs": [
    {
     "name": "stdout",
     "output_type": "stream",
     "text": [
      "[63.650002 64.       63.400002 63.900002]\n",
      "[64.5      65.150002 64.5      65.      ]\n"
     ]
    }
   ],
   "source": [
    "print(data[0])\n",
    "print(data[1])"
   ]
  },
  {
   "cell_type": "code",
   "execution_count": 21,
   "metadata": {},
   "outputs": [
    {
     "name": "stdout",
     "output_type": "stream",
     "text": [
      "Index(['63.75', '63.849998', '63.049999', '63.150002'], dtype='object')\n"
     ]
    }
   ],
   "source": [
    "print(training_data.columns)"
   ]
  },
  {
   "cell_type": "code",
   "execution_count": 22,
   "metadata": {},
   "outputs": [],
   "source": [
    "ind = training_data.columns.values"
   ]
  },
  {
   "cell_type": "code",
   "execution_count": 23,
   "metadata": {},
   "outputs": [
    {
     "name": "stdout",
     "output_type": "stream",
     "text": [
      "['63.75' '63.849998' '63.049999' '63.150002']\n",
      "63.75\n"
     ]
    }
   ],
   "source": [
    "print(ind)\n",
    "print(ind[0])"
   ]
  },
  {
   "cell_type": "code",
   "execution_count": 36,
   "metadata": {},
   "outputs": [],
   "source": [
    "testing_data = pd.read_csv('testing_data.csv', header=0)\n",
    "testDataR1 = testing_data.columns.values\n",
    "testData = testing_data.values\n",
    "\n",
    "ftestDataR1 = testDataR1.astype(float)\n",
    "ftestData = testData.astype(float)"
   ]
  },
  {
   "cell_type": "code",
   "execution_count": 25,
   "metadata": {},
   "outputs": [
    {
     "name": "stdout",
     "output_type": "stream",
     "text": [
      "['104.449997' '105.199997' '104.25' '104.949997']\n",
      "[106.550003 107.       106.349998 106.550003]\n"
     ]
    }
   ],
   "source": [
    "print(testDataR1)\n",
    "print(testData[0])"
   ]
  },
  {
   "cell_type": "code",
   "execution_count": 26,
   "metadata": {},
   "outputs": [
    {
     "name": "stdout",
     "output_type": "stream",
     "text": [
      "False\n"
     ]
    }
   ],
   "source": [
    "print(testDataR1[0] == testDataR1[3])"
   ]
  },
  {
   "cell_type": "code",
   "execution_count": 59,
   "metadata": {},
   "outputs": [],
   "source": [
    "import csv\n",
    "count = 0\n",
    "dn = 0\n",
    "delta = 0.005\n",
    "with open('output.csv',\"w\", encoding='utf-8' ,newline='') as csvfile:\n",
    "    writer = csv.writer(csvfile)\n",
    "    if ((ftestDataR1[3] - ftestDataR1[0])/ftestDataR1[3]) > delta :\n",
    "        if count < 1 :\n",
    "            writer.writerows('1')\n",
    "            count +=1\n",
    "    elif ((ftestDataR1[0] - ftestDataR1[3])/ftestDataR1[3]) > delta :\n",
    "        if count >= 0 :\n",
    "            writer.writerow([-1])\n",
    "            count -=1\n",
    "    else :\n",
    "        writer.writerows('0')\n",
    "\n",
    "    for row in testData :\n",
    "        if ((ftestData[dn][3] - ftestData[dn][0])/ftestData[dn][3]) > delta :\n",
    "            if count < 1 :\n",
    "                writer.writerows('1')\n",
    "                count +=1\n",
    "            else :\n",
    "                writer.writerows('0')\n",
    "        elif ((ftestData[dn][0] - ftestData[dn][3])/ftestData[dn][3]) > delta :\n",
    "            if count >= 0 :\n",
    "                writer.writerow([-1])\n",
    "                count -=1\n",
    "            else :\n",
    "                writer.writerows('0')\n",
    "        else :\n",
    "            writer.writerows('0')\n",
    "\n",
    "        dn+=1\n",
    " \n"
   ]
  }
 ],
 "metadata": {
  "kernelspec": {
   "display_name": "Python 3.9.7 ('base')",
   "language": "python",
   "name": "python3"
  },
  "language_info": {
   "codemirror_mode": {
    "name": "ipython",
    "version": 3
   },
   "file_extension": ".py",
   "mimetype": "text/x-python",
   "name": "python",
   "nbconvert_exporter": "python",
   "pygments_lexer": "ipython3",
   "version": "3.9.7"
  },
  "orig_nbformat": 4,
  "vscode": {
   "interpreter": {
    "hash": "a7c555c01f6b04286979bdb76220e9abc559853be34529bc27cc6241e3d6dd83"
   }
  }
 },
 "nbformat": 4,
 "nbformat_minor": 2
}
