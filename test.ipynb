{
 "cells": [
  {
   "cell_type": "code",
   "execution_count": 73,
   "metadata": {},
   "outputs": [],
   "source": [
    "import sklearn\n",
    "import numpy as np\n",
    "import matplotlib.pyplot as plt\n",
    "import pandas as pd"
   ]
  },
  {
   "cell_type": "code",
   "execution_count": 74,
   "metadata": {},
   "outputs": [],
   "source": [
    "training_data = pd.read_csv('training_data.csv', header=0)\n",
    "testing_data= pd.read_csv('testing_data.csv', header=0)"
   ]
  },
  {
   "cell_type": "code",
   "execution_count": 75,
   "metadata": {},
   "outputs": [],
   "source": [
    "def RSI(Close, ind, period=6):\n",
    "    # 整理資料\n",
    "    import pandas as pd\n",
    "    Chg = Close - Close.shift(1)\n",
    "    Chg_pos = pd.Series(index=Chg.index, data=Chg[Chg>0])\n",
    "    Chg_pos = Chg_pos.fillna(0)\n",
    "    Chg_neg = pd.Series(index=Chg.index, data=-Chg[Chg<0])\n",
    "    Chg_neg = Chg_neg.fillna(0)\n",
    "    \n",
    "    # 計算6日平均漲跌幅度\n",
    "    import numpy as np\n",
    "    up_mean = np.mean(Chg_pos.values[ind-period:ind])\n",
    "    down_mean = np.mean(Chg_neg.values[ind-period:ind])\n",
    "    \n",
    "    \n",
    "    # 計算 RSI\n",
    "    rsi = ( 100 * up_mean / ( up_mean + down_mean ) )\n",
    "    \n",
    "    return rsi"
   ]
  },
  {
   "cell_type": "code",
   "execution_count": 76,
   "metadata": {},
   "outputs": [],
   "source": [
    "testing_data = pd.read_csv('testing_data.csv', header=0)\n",
    "testDataR1 = testing_data.columns.values\n",
    "testData = testing_data.values\n",
    "\n",
    "ftestDataR1 = testDataR1.astype(float)\n",
    "ftestData = testData.astype(float)"
   ]
  },
  {
   "cell_type": "code",
   "execution_count": 84,
   "metadata": {},
   "outputs": [],
   "source": [
    "Close = []\n",
    "\n",
    "import csv\n",
    "count = 0\n",
    "dn = 0\n",
    "delta = 0.005\n",
    "with open('output.csv',\"w\", encoding='utf-8' ,newline='') as csvfile:\n",
    "    writer = csv.writer(csvfile)\n",
    "    # First Day\n",
    "    if ((ftestDataR1[3] - ftestDataR1[0])/ftestDataR1[3]) > delta :\n",
    "        if count < 1 :\n",
    "            writer.writerows('1')\n",
    "            count +=1\n",
    "    elif ((ftestDataR1[0] - ftestDataR1[3])/ftestDataR1[3]) > delta :\n",
    "        if count >= 0 :\n",
    "            writer.writerow([-1])\n",
    "            count -=1\n",
    "    else :\n",
    "        writer.writerows('0')\n",
    "\n",
    "    Close.append(ftestDataR1[3])\n",
    "\n",
    "    # Second Day and so on\n",
    "    for row in ftestData :\n",
    "        if dn < 5:\n",
    "            if ((ftestData[dn][3] - ftestData[dn][0])/ftestData[dn][3]) > delta :\n",
    "                if count < 1 :\n",
    "                    writer.writerows('1')\n",
    "                    count +=1\n",
    "                else :\n",
    "                    writer.writerows('0')\n",
    "            elif ((ftestData[dn][0] - ftestData[dn][3])/ftestData[dn][3]) > delta :\n",
    "                if count >= 0 :\n",
    "                    writer.writerow([-1])\n",
    "                    count -=1\n",
    "                else :\n",
    "                    writer.writerows('0')\n",
    "            else :\n",
    "                writer.writerows('0')\n",
    "\n",
    "        elif dn <  len(ftestData)-1:\n",
    "            Close_series = pd.Series(Close)\n",
    "            Close_index = dn + 2\n",
    "            if RSI(Close_series, Close_index) < 25 :\n",
    "                if count < 1 :\n",
    "                    writer.writerows('1')\n",
    "                    count +=1\n",
    "                else :\n",
    "                    writer.writerows('0')\n",
    "            elif RSI(Close_series, Close_index) > 65 :\n",
    "                if count >= 0 :\n",
    "                    writer.writerow([-1])\n",
    "                    count -=1\n",
    "                else :\n",
    "                    writer.writerows('0')\n",
    "            else :\n",
    "                writer.writerows('0')\n",
    "\n",
    "       \n",
    "        \n",
    "        Close.append(ftestData[dn][3])\n",
    "        dn+=1\n",
    " \n"
   ]
  },
  {
   "cell_type": "code",
   "execution_count": 82,
   "metadata": {},
   "outputs": [
    {
     "data": {
      "text/plain": [
       "19"
      ]
     },
     "execution_count": 82,
     "metadata": {},
     "output_type": "execute_result"
    }
   ],
   "source": [
    "len(ftestData)"
   ]
  }
 ],
 "metadata": {
  "kernelspec": {
   "display_name": "Python 3.9.7 ('base')",
   "language": "python",
   "name": "python3"
  },
  "language_info": {
   "codemirror_mode": {
    "name": "ipython",
    "version": 3
   },
   "file_extension": ".py",
   "mimetype": "text/x-python",
   "name": "python",
   "nbconvert_exporter": "python",
   "pygments_lexer": "ipython3",
   "version": "3.9.7"
  },
  "orig_nbformat": 4,
  "vscode": {
   "interpreter": {
    "hash": "a7c555c01f6b04286979bdb76220e9abc559853be34529bc27cc6241e3d6dd83"
   }
  }
 },
 "nbformat": 4,
 "nbformat_minor": 2
}
